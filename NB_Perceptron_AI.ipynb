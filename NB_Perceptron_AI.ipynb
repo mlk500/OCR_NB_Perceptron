{
 "cells": [
  {
   "cell_type": "code",
   "execution_count": 58,
   "id": "608f02dd",
   "metadata": {},
   "outputs": [],
   "source": [
    "import pandas as pd\n",
    "import numpy as np\n",
    "import math\n",
    "from sklearn.metrics import accuracy_score"
   ]
  },
  {
   "cell_type": "code",
   "execution_count": 59,
   "id": "ffdb6b2b",
   "metadata": {},
   "outputs": [],
   "source": [
    "######## opening data files ########\n",
    "def open_file(file):\n",
    "    pixels = []\n",
    "    curr = []\n",
    "    f = open(file,'r')\n",
    "    lines = f.readlines()\n",
    "    counter = 0\n",
    "    for line in lines:\n",
    "        line = line[0:28]\n",
    "        temp = []\n",
    "        for ch in line:\n",
    "            if ch == '#' or ch == '+':\n",
    "                temp.append(1)\n",
    "            else:\n",
    "                temp.append(0)\n",
    "        curr.append(temp)\n",
    "        counter+=1\n",
    "        if counter == 28:\n",
    "            pixels.append(curr)\n",
    "            curr = []\n",
    "            counter = 0\n",
    "    f.close()\n",
    "    return pixels"
   ]
  },
  {
   "cell_type": "code",
   "execution_count": 60,
   "id": "c4e99573",
   "metadata": {},
   "outputs": [],
   "source": [
    "######## opening label files ########\n",
    "def open_label_file(label_file):\n",
    "    y = []\n",
    "    f = open(label_file,'r')\n",
    "    lines = f.readlines()\n",
    "    for line in lines:\n",
    "        if line != '\\n': \n",
    "            y.append(int(line))\n",
    "    f.close()\n",
    "    return y"
   ]
  },
  {
   "cell_type": "code",
   "execution_count": 61,
   "id": "176e1ec8",
   "metadata": {
    "scrolled": true
   },
   "outputs": [],
   "source": [
    "######## importing data ########\n",
    "train_x = open_file(\"trainingimages\")\n",
    "train_y = open_label_file(\"traininglabels\")\n",
    "val_x = open_file(\"validationimages\")\n",
    "val_y = open_label_file(\"validationlabels\")\n",
    "test_x = open_file(\"testimages\")\n",
    "test_y = open_label_file(\"testlabels\")"
   ]
  },
  {
   "cell_type": "code",
   "execution_count": 62,
   "id": "b7f7bb57",
   "metadata": {
    "scrolled": false
   },
   "outputs": [
    {
     "name": "stdout",
     "output_type": "stream",
     "text": [
      "[0, 0, 0, 0, 0, 0, 0, 0, 0, 0, 0, 0, 0, 0, 0, 0, 0, 0, 0, 0, 0, 0, 0, 0, 0, 0, 0, 0]\n",
      "[0, 0, 0, 0, 0, 0, 0, 0, 0, 0, 0, 0, 0, 0, 0, 0, 0, 0, 0, 0, 0, 0, 0, 0, 0, 0, 0, 0]\n",
      "[0, 0, 0, 0, 0, 0, 0, 0, 0, 0, 0, 0, 0, 0, 0, 0, 0, 0, 0, 0, 0, 0, 0, 0, 0, 0, 0, 0]\n",
      "[0, 0, 0, 0, 0, 0, 0, 0, 0, 0, 0, 0, 0, 0, 0, 0, 0, 0, 0, 0, 0, 0, 0, 0, 0, 0, 0, 0]\n",
      "[0, 0, 0, 0, 0, 0, 0, 0, 0, 0, 0, 0, 0, 0, 0, 0, 0, 0, 0, 0, 0, 0, 0, 0, 0, 0, 0, 0]\n",
      "[0, 0, 0, 0, 0, 0, 0, 0, 0, 0, 0, 0, 0, 0, 0, 0, 1, 1, 1, 1, 1, 1, 1, 1, 0, 0, 0, 0]\n",
      "[0, 0, 0, 0, 0, 0, 0, 0, 1, 1, 1, 1, 1, 1, 1, 1, 1, 1, 1, 1, 1, 1, 1, 1, 0, 0, 0, 0]\n",
      "[0, 0, 0, 0, 0, 0, 0, 1, 1, 1, 1, 1, 1, 1, 1, 1, 1, 1, 1, 1, 1, 1, 1, 0, 0, 0, 0, 0]\n",
      "[0, 0, 0, 0, 0, 0, 0, 0, 1, 1, 1, 1, 1, 1, 1, 1, 1, 1, 0, 0, 0, 0, 0, 0, 0, 0, 0, 0]\n",
      "[0, 0, 0, 0, 0, 0, 0, 0, 1, 1, 1, 1, 1, 1, 0, 0, 1, 1, 0, 0, 0, 0, 0, 0, 0, 0, 0, 0]\n",
      "[0, 0, 0, 0, 0, 0, 0, 0, 0, 0, 0, 1, 1, 1, 0, 0, 0, 0, 0, 0, 0, 0, 0, 0, 0, 0, 0, 0]\n",
      "[0, 0, 0, 0, 0, 0, 0, 0, 0, 0, 0, 1, 1, 1, 0, 0, 0, 0, 0, 0, 0, 0, 0, 0, 0, 0, 0, 0]\n",
      "[0, 0, 0, 0, 0, 0, 0, 0, 0, 0, 0, 0, 1, 1, 1, 0, 0, 0, 0, 0, 0, 0, 0, 0, 0, 0, 0, 0]\n",
      "[0, 0, 0, 0, 0, 0, 0, 0, 0, 0, 0, 0, 1, 1, 1, 1, 1, 0, 0, 0, 0, 0, 0, 0, 0, 0, 0, 0]\n",
      "[0, 0, 0, 0, 0, 0, 0, 0, 0, 0, 0, 0, 0, 1, 1, 1, 1, 1, 1, 0, 0, 0, 0, 0, 0, 0, 0, 0]\n",
      "[0, 0, 0, 0, 0, 0, 0, 0, 0, 0, 0, 0, 0, 0, 1, 1, 1, 1, 1, 1, 0, 0, 0, 0, 0, 0, 0, 0]\n",
      "[0, 0, 0, 0, 0, 0, 0, 0, 0, 0, 0, 0, 0, 0, 0, 0, 1, 1, 1, 1, 0, 0, 0, 0, 0, 0, 0, 0]\n",
      "[0, 0, 0, 0, 0, 0, 0, 0, 0, 0, 0, 0, 0, 0, 0, 0, 0, 1, 1, 1, 1, 0, 0, 0, 0, 0, 0, 0]\n",
      "[0, 0, 0, 0, 0, 0, 0, 0, 0, 0, 0, 0, 0, 0, 1, 1, 1, 1, 1, 1, 0, 0, 0, 0, 0, 0, 0, 0]\n",
      "[0, 0, 0, 0, 0, 0, 0, 0, 0, 0, 0, 0, 1, 1, 1, 1, 1, 1, 1, 1, 0, 0, 0, 0, 0, 0, 0, 0]\n",
      "[0, 0, 0, 0, 0, 0, 0, 0, 0, 0, 1, 1, 1, 1, 1, 1, 1, 1, 1, 0, 0, 0, 0, 0, 0, 0, 0, 0]\n",
      "[0, 0, 0, 0, 0, 0, 0, 0, 1, 1, 1, 1, 1, 1, 1, 1, 1, 0, 0, 0, 0, 0, 0, 0, 0, 0, 0, 0]\n",
      "[0, 0, 0, 0, 0, 0, 0, 1, 1, 1, 1, 1, 1, 1, 1, 0, 0, 0, 0, 0, 0, 0, 0, 0, 0, 0, 0, 0]\n",
      "[0, 0, 0, 0, 1, 1, 1, 1, 1, 1, 1, 1, 1, 0, 0, 0, 0, 0, 0, 0, 0, 0, 0, 0, 0, 0, 0, 0]\n",
      "[0, 0, 0, 0, 1, 1, 1, 1, 1, 1, 1, 0, 0, 0, 0, 0, 0, 0, 0, 0, 0, 0, 0, 0, 0, 0, 0, 0]\n",
      "[0, 0, 0, 0, 0, 0, 0, 0, 0, 0, 0, 0, 0, 0, 0, 0, 0, 0, 0, 0, 0, 0, 0, 0, 0, 0, 0, 0]\n",
      "[0, 0, 0, 0, 0, 0, 0, 0, 0, 0, 0, 0, 0, 0, 0, 0, 0, 0, 0, 0, 0, 0, 0, 0, 0, 0, 0, 0]\n",
      "[0, 0, 0, 0, 0, 0, 0, 0, 0, 0, 0, 0, 0, 0, 0, 0, 0, 0, 0, 0, 0, 0, 0, 0, 0, 0, 0, 0]\n",
      "\n",
      "\n",
      "[0, 0, 0, 0, 0, 0, 0, 0, 0, 0, 0, 0, 0, 0, 0, 0, 0, 0, 0, 0, 0, 0, 0, 0, 0, 0, 0, 0]\n",
      "[0, 0, 0, 0, 0, 0, 0, 0, 0, 0, 0, 0, 0, 0, 0, 0, 0, 0, 0, 0, 0, 0, 0, 0, 0, 0, 0, 0]\n",
      "[0, 0, 0, 0, 0, 0, 0, 0, 0, 0, 0, 0, 0, 0, 0, 0, 0, 0, 0, 0, 0, 0, 0, 0, 0, 0, 0, 0]\n",
      "[0, 0, 0, 0, 0, 0, 0, 0, 0, 0, 0, 0, 0, 0, 0, 0, 0, 0, 0, 0, 0, 0, 0, 0, 0, 0, 0, 0]\n",
      "[0, 0, 0, 0, 0, 0, 0, 0, 0, 0, 0, 0, 0, 0, 0, 1, 1, 1, 1, 1, 0, 0, 0, 0, 0, 0, 0, 0]\n",
      "[0, 0, 0, 0, 0, 0, 0, 0, 0, 0, 0, 0, 0, 0, 1, 1, 1, 1, 1, 1, 0, 0, 0, 0, 0, 0, 0, 0]\n",
      "[0, 0, 0, 0, 0, 0, 0, 0, 0, 0, 0, 0, 0, 1, 1, 1, 1, 1, 1, 1, 1, 0, 0, 0, 0, 0, 0, 0]\n",
      "[0, 0, 0, 0, 0, 0, 0, 0, 0, 0, 0, 0, 1, 1, 1, 1, 1, 1, 1, 1, 1, 1, 0, 0, 0, 0, 0, 0]\n",
      "[0, 0, 0, 0, 0, 0, 0, 0, 0, 0, 0, 1, 1, 1, 1, 1, 1, 1, 1, 1, 1, 1, 0, 0, 0, 0, 0, 0]\n",
      "[0, 0, 0, 0, 0, 0, 0, 0, 0, 0, 1, 1, 1, 1, 1, 1, 1, 1, 1, 1, 1, 1, 0, 0, 0, 0, 0, 0]\n",
      "[0, 0, 0, 0, 0, 0, 0, 0, 0, 1, 1, 1, 1, 1, 0, 1, 1, 1, 0, 0, 1, 1, 1, 0, 0, 0, 0, 0]\n",
      "[0, 0, 0, 0, 0, 0, 0, 0, 1, 1, 1, 1, 1, 1, 0, 0, 0, 0, 0, 0, 1, 1, 1, 0, 0, 0, 0, 0]\n",
      "[0, 0, 0, 0, 0, 0, 0, 0, 1, 1, 1, 1, 0, 1, 0, 0, 0, 0, 0, 0, 1, 1, 1, 0, 0, 0, 0, 0]\n",
      "[0, 0, 0, 0, 0, 0, 0, 1, 1, 1, 1, 0, 0, 0, 0, 0, 0, 0, 0, 0, 1, 1, 1, 0, 0, 0, 0, 0]\n",
      "[0, 0, 0, 0, 0, 0, 0, 1, 1, 1, 0, 0, 0, 0, 0, 0, 0, 0, 0, 0, 1, 1, 1, 0, 0, 0, 0, 0]\n",
      "[0, 0, 0, 0, 0, 0, 1, 1, 1, 1, 0, 0, 0, 0, 0, 0, 0, 0, 0, 0, 1, 1, 1, 0, 0, 0, 0, 0]\n",
      "[0, 0, 0, 0, 0, 0, 1, 1, 1, 1, 0, 0, 0, 0, 0, 0, 0, 0, 0, 1, 1, 1, 0, 0, 0, 0, 0, 0]\n",
      "[0, 0, 0, 0, 0, 0, 1, 1, 1, 0, 0, 0, 0, 0, 0, 0, 0, 0, 1, 1, 1, 1, 0, 0, 0, 0, 0, 0]\n",
      "[0, 0, 0, 0, 0, 0, 1, 1, 1, 0, 0, 0, 0, 0, 0, 0, 1, 1, 1, 1, 0, 0, 0, 0, 0, 0, 0, 0]\n",
      "[0, 0, 0, 0, 0, 0, 1, 1, 1, 0, 0, 0, 0, 0, 0, 1, 1, 1, 1, 0, 0, 0, 0, 0, 0, 0, 0, 0]\n",
      "[0, 0, 0, 0, 0, 0, 1, 1, 1, 1, 1, 1, 1, 1, 1, 1, 1, 1, 1, 0, 0, 0, 0, 0, 0, 0, 0, 0]\n",
      "[0, 0, 0, 0, 0, 0, 1, 1, 1, 1, 1, 1, 1, 1, 1, 1, 1, 0, 0, 0, 0, 0, 0, 0, 0, 0, 0, 0]\n",
      "[0, 0, 0, 0, 0, 0, 1, 1, 1, 1, 1, 1, 1, 1, 1, 0, 0, 0, 0, 0, 0, 0, 0, 0, 0, 0, 0, 0]\n",
      "[0, 0, 0, 0, 0, 0, 0, 1, 1, 1, 1, 1, 1, 1, 0, 0, 0, 0, 0, 0, 0, 0, 0, 0, 0, 0, 0, 0]\n",
      "[0, 0, 0, 0, 0, 0, 0, 0, 0, 0, 0, 0, 0, 0, 0, 0, 0, 0, 0, 0, 0, 0, 0, 0, 0, 0, 0, 0]\n",
      "[0, 0, 0, 0, 0, 0, 0, 0, 0, 0, 0, 0, 0, 0, 0, 0, 0, 0, 0, 0, 0, 0, 0, 0, 0, 0, 0, 0]\n",
      "[0, 0, 0, 0, 0, 0, 0, 0, 0, 0, 0, 0, 0, 0, 0, 0, 0, 0, 0, 0, 0, 0, 0, 0, 0, 0, 0, 0]\n",
      "[0, 0, 0, 0, 0, 0, 0, 0, 0, 0, 0, 0, 0, 0, 0, 0, 0, 0, 0, 0, 0, 0, 0, 0, 0, 0, 0, 0]\n",
      "\n",
      "\n",
      "[0, 0, 0, 0, 0, 0, 0, 0, 0, 0, 0, 0, 0, 0, 0, 0, 0, 0, 0, 0, 0, 0, 0, 0, 0, 0, 0, 0]\n",
      "[0, 0, 0, 0, 0, 0, 0, 0, 0, 0, 0, 0, 0, 0, 0, 0, 0, 0, 0, 0, 0, 0, 0, 0, 0, 0, 0, 0]\n",
      "[0, 0, 0, 0, 0, 0, 0, 0, 0, 0, 0, 0, 0, 0, 0, 0, 0, 0, 0, 0, 0, 0, 0, 0, 0, 0, 0, 0]\n",
      "[0, 0, 0, 0, 0, 0, 0, 0, 0, 0, 0, 0, 0, 0, 0, 0, 0, 0, 0, 0, 0, 0, 0, 0, 0, 0, 0, 0]\n",
      "[0, 0, 0, 0, 0, 0, 0, 0, 0, 0, 0, 0, 0, 0, 0, 0, 0, 0, 0, 0, 0, 0, 0, 0, 0, 0, 0, 0]\n",
      "[0, 0, 0, 0, 0, 0, 0, 0, 0, 0, 0, 0, 0, 0, 0, 0, 0, 0, 0, 0, 1, 1, 1, 0, 0, 0, 0, 0]\n",
      "[0, 0, 0, 0, 1, 1, 0, 0, 0, 0, 0, 0, 0, 0, 0, 0, 0, 0, 0, 0, 1, 1, 1, 0, 0, 0, 0, 0]\n",
      "[0, 0, 0, 0, 1, 1, 0, 0, 0, 0, 0, 0, 0, 0, 0, 0, 0, 0, 0, 0, 1, 1, 1, 0, 0, 0, 0, 0]\n",
      "[0, 0, 0, 0, 1, 1, 0, 0, 0, 0, 0, 0, 0, 0, 0, 0, 0, 0, 0, 1, 1, 1, 0, 0, 0, 0, 0, 0]\n",
      "[0, 0, 0, 0, 1, 1, 0, 0, 0, 0, 0, 0, 0, 0, 0, 0, 0, 0, 0, 1, 1, 1, 0, 0, 0, 0, 0, 0]\n",
      "[0, 0, 0, 1, 1, 1, 0, 0, 0, 0, 0, 0, 0, 0, 0, 0, 0, 0, 0, 1, 1, 1, 0, 0, 0, 0, 0, 0]\n",
      "[0, 0, 0, 1, 1, 1, 0, 0, 0, 0, 0, 0, 0, 0, 0, 0, 0, 0, 1, 1, 1, 1, 0, 0, 0, 0, 0, 0]\n",
      "[0, 0, 0, 1, 1, 1, 0, 0, 0, 0, 0, 0, 0, 0, 0, 0, 0, 0, 1, 1, 1, 0, 0, 0, 0, 0, 0, 0]\n",
      "[0, 0, 0, 1, 1, 1, 0, 0, 0, 0, 0, 0, 0, 0, 0, 0, 1, 1, 1, 1, 1, 0, 0, 0, 0, 0, 0, 0]\n",
      "[0, 0, 0, 1, 1, 1, 0, 0, 0, 1, 1, 1, 1, 1, 1, 1, 1, 1, 1, 1, 1, 0, 0, 0, 0, 0, 0, 0]\n",
      "[0, 0, 0, 1, 1, 1, 1, 1, 1, 1, 1, 1, 1, 1, 1, 1, 1, 0, 1, 1, 0, 0, 0, 0, 0, 0, 0, 0]\n",
      "[0, 0, 0, 0, 1, 1, 1, 1, 1, 1, 1, 1, 0, 0, 0, 0, 0, 1, 1, 1, 0, 0, 0, 0, 0, 0, 0, 0]\n",
      "[0, 0, 0, 0, 0, 0, 0, 0, 0, 0, 0, 0, 0, 0, 0, 0, 0, 1, 1, 1, 0, 0, 0, 0, 0, 0, 0, 0]\n",
      "[0, 0, 0, 0, 0, 0, 0, 0, 0, 0, 0, 0, 0, 0, 0, 0, 0, 1, 1, 1, 0, 0, 0, 0, 0, 0, 0, 0]\n",
      "[0, 0, 0, 0, 0, 0, 0, 0, 0, 0, 0, 0, 0, 0, 0, 0, 0, 1, 1, 1, 0, 0, 0, 0, 0, 0, 0, 0]\n",
      "[0, 0, 0, 0, 0, 0, 0, 0, 0, 0, 0, 0, 0, 0, 0, 0, 0, 1, 1, 1, 0, 0, 0, 0, 0, 0, 0, 0]\n",
      "[0, 0, 0, 0, 0, 0, 0, 0, 0, 0, 0, 0, 0, 0, 0, 0, 0, 1, 1, 1, 0, 0, 0, 0, 0, 0, 0, 0]\n",
      "[0, 0, 0, 0, 0, 0, 0, 0, 0, 0, 0, 0, 0, 0, 0, 0, 0, 1, 1, 1, 0, 0, 0, 0, 0, 0, 0, 0]\n",
      "[0, 0, 0, 0, 0, 0, 0, 0, 0, 0, 0, 0, 0, 0, 0, 0, 0, 1, 1, 1, 0, 0, 0, 0, 0, 0, 0, 0]\n",
      "[0, 0, 0, 0, 0, 0, 0, 0, 0, 0, 0, 0, 0, 0, 0, 0, 0, 1, 1, 1, 0, 0, 0, 0, 0, 0, 0, 0]\n",
      "[0, 0, 0, 0, 0, 0, 0, 0, 0, 0, 0, 0, 0, 0, 0, 0, 0, 0, 0, 0, 0, 0, 0, 0, 0, 0, 0, 0]\n",
      "[0, 0, 0, 0, 0, 0, 0, 0, 0, 0, 0, 0, 0, 0, 0, 0, 0, 0, 0, 0, 0, 0, 0, 0, 0, 0, 0, 0]\n",
      "[0, 0, 0, 0, 0, 0, 0, 0, 0, 0, 0, 0, 0, 0, 0, 0, 0, 0, 0, 0, 0, 0, 0, 0, 0, 0, 0, 0]\n",
      "\n",
      "\n"
     ]
    }
   ],
   "source": [
    "c = 0\n",
    "for i in train_x:\n",
    "    for j in i:\n",
    "        print(j)\n",
    "    print('\\n')\n",
    "    c+=1\n",
    "    if c == 3:\n",
    "        break\n",
    "    "
   ]
  },
  {
   "cell_type": "code",
   "execution_count": 63,
   "id": "e2b37af7",
   "metadata": {},
   "outputs": [],
   "source": [
    "################### mapping pixels with their labeled digit, and storing the result in a dictionary ###################\n",
    "\n",
    "def count_digit_appearance(train,labels):\n",
    "    dictionary = {0: [], 1:[], 2:[], 3:[], 4:[], 5:[], 6:[], 7:[], 8:[], 9:[]}\n",
    "    i = 0\n",
    "#     print(train[i])\n",
    "    for l in labels:\n",
    "        dictionary[l].append(train[i])\n",
    "        i+=1\n",
    "    return dictionary"
   ]
  },
  {
   "cell_type": "code",
   "execution_count": 64,
   "id": "a98dc8cd",
   "metadata": {},
   "outputs": [],
   "source": [
    "################### calculating prior probability P(C) ###################\n",
    "\n",
    "def calculate_prior(train_labels):\n",
    "    total = len(train_labels)\n",
    "    prior = list(np.zeros(10))\n",
    "    for y in train_labels:\n",
    "        prior[y]+=1\n",
    "    for i in range(len(prior)):\n",
    "        prior[i] /= total\n",
    "        prior[i] = math.log(prior[i])     \n",
    "    return prior"
   ]
  },
  {
   "cell_type": "code",
   "execution_count": 65,
   "id": "a69141b2",
   "metadata": {},
   "outputs": [],
   "source": [
    "################### calculating likelihood for each index in each one of the matrices, a helper function is called to perform smoothing ###################\n",
    "\n",
    "def calc_likelihood(dict1,k):\n",
    "    new_dict = {0: [], 1:[], 2:[], 3:[], 4:[], 5:[], 6:[], 7:[], 8:[], 9:[]}\n",
    "    for key in dict1:\n",
    "        entry = dict1[key]\n",
    "        ones = list(np.zeros((len(entry[0]),len(entry[0][0])),dtype=int))\n",
    "        zeros = list(np.zeros((len(entry[0]),len(entry[0][0])),dtype=int))\n",
    "        x_len = len(entry)\n",
    "        for value in entry:\n",
    "            for i in range(len(entry[0])):\n",
    "                for j in range(len(entry[0][0])):         \n",
    "                    if value[i][j] == 0:\n",
    "                        zeros[i][j]+=1\n",
    "                    else:\n",
    "                        ones[i][j]+=value[i][j]\n",
    "        new_dict[key] = ones,zeros,x_len\n",
    "    new_dict = smoothing(new_dict,k)\n",
    "    return new_dict\n",
    "        \n",
    "    \n",
    "def smoothing(dict2, k):\n",
    "    new_dict2 = ({0: [], 1:[], 2:[], 3:[], 4:[], 5:[], 6:[], 7:[], 8:[], 9:[]})\n",
    "    for key in dict2:\n",
    "        ones = (dict2[key][0])\n",
    "        ones = np.array(ones)\n",
    "        ones = ones.astype(float)\n",
    "        zeros = (dict2[key][1])\n",
    "        zeros = np.array(zeros)\n",
    "        zeros = zeros.astype(float)\n",
    "        x_len = dict2[key][2]\n",
    "        for i in range(len(ones)):\n",
    "            for j in range(len(ones[0])):\n",
    "                ones[i][j] += k\n",
    "                zeros[i][j] +=k\n",
    "        x_len += float(2*k)\n",
    "        for i in range(len(ones)):\n",
    "            for j in range(len(ones[0])):\n",
    "                ones[i][j]/=x_len\n",
    "                zeros[i][j]/=x_len\n",
    "        new_dict2[key] = (ones,zeros,x_len)\n",
    "    return new_dict2"
   ]
  },
  {
   "cell_type": "code",
   "execution_count": 66,
   "id": "c9989027",
   "metadata": {},
   "outputs": [],
   "source": [
    "def fit(train_pixels,train_labels,k):\n",
    "    appearances = count_digit_appearance(train_x,train_labels)\n",
    "    priors = calculate_prior(train_labels)\n",
    "    likelihoods = calc_likelihood(appearances,k)\n",
    "    return priors,likelihoods"
   ]
  },
  {
   "cell_type": "code",
   "execution_count": 67,
   "id": "9531e050",
   "metadata": {},
   "outputs": [],
   "source": [
    "def predict(priors,likelihoods,test_pixels):\n",
    "    preds = []\n",
    "    for pix in test_pixels:\n",
    "        max_prob = float('-inf')\n",
    "        for p in range(len(priors)):\n",
    "            ones = likelihoods[p][0]\n",
    "            zeros = likelihoods[p][1]\n",
    "            prob = priors[p]\n",
    "            for i in range(len(pix)):\n",
    "                for j in range(len(pix[0])):\n",
    "                    if pix[i][j] == 0.0:\n",
    "                        prob+= math.log(zeros[i][j])\n",
    "                    else:\n",
    "                        prob+=math.log(ones[i][j])\n",
    "            if prob > max_prob:\n",
    "                max_prob = prob\n",
    "                pred_digit = p\n",
    "        preds.append(pred_digit)\n",
    "    return preds"
   ]
  },
  {
   "cell_type": "markdown",
   "id": "7f1f32c7",
   "metadata": {},
   "source": [
    "## Section A - Hyper Tuning The Model "
   ]
  },
  {
   "cell_type": "code",
   "execution_count": 68,
   "id": "e1a43690",
   "metadata": {},
   "outputs": [
    {
     "name": "stdout",
     "output_type": "stream",
     "text": [
      "0\n",
      "1\n",
      "2\n",
      "3\n",
      "4\n",
      "Wall time: 34.6 s\n"
     ]
    }
   ],
   "source": [
    "%%time\n",
    "grid_search = {'k_value':[],'accuracy score': []}\n",
    "k_list = [1,2,3,4,5]\n",
    "for k in range(len(k_list)):\n",
    "    print(k)\n",
    "    val_params = fit(train_x,train_y,k+1)\n",
    "    y_val_pred = predict(val_params[0],val_params[1],val_x)\n",
    "    acc = round(accuracy_score(val_y, y_val_pred) *100 ,3)\n",
    "    grid_search['k_value'].append(k+1)\n",
    "    grid_search['accuracy score'].append(acc)"
   ]
  },
  {
   "cell_type": "code",
   "execution_count": 69,
   "id": "0991d46c",
   "metadata": {},
   "outputs": [
    {
     "data": {
      "text/html": [
       "<div>\n",
       "<style scoped>\n",
       "    .dataframe tbody tr th:only-of-type {\n",
       "        vertical-align: middle;\n",
       "    }\n",
       "\n",
       "    .dataframe tbody tr th {\n",
       "        vertical-align: top;\n",
       "    }\n",
       "\n",
       "    .dataframe thead th {\n",
       "        text-align: right;\n",
       "    }\n",
       "</style>\n",
       "<table border=\"1\" class=\"dataframe\">\n",
       "  <thead>\n",
       "    <tr style=\"text-align: right;\">\n",
       "      <th></th>\n",
       "      <th>k_value</th>\n",
       "      <th>accuracy score</th>\n",
       "    </tr>\n",
       "  </thead>\n",
       "  <tbody>\n",
       "    <tr>\n",
       "      <th>0</th>\n",
       "      <td>1</td>\n",
       "      <td>81.8</td>\n",
       "    </tr>\n",
       "    <tr>\n",
       "      <th>1</th>\n",
       "      <td>2</td>\n",
       "      <td>81.8</td>\n",
       "    </tr>\n",
       "    <tr>\n",
       "      <th>2</th>\n",
       "      <td>3</td>\n",
       "      <td>81.1</td>\n",
       "    </tr>\n",
       "    <tr>\n",
       "      <th>3</th>\n",
       "      <td>4</td>\n",
       "      <td>81.1</td>\n",
       "    </tr>\n",
       "    <tr>\n",
       "      <th>4</th>\n",
       "      <td>5</td>\n",
       "      <td>81.0</td>\n",
       "    </tr>\n",
       "  </tbody>\n",
       "</table>\n",
       "</div>"
      ],
      "text/plain": [
       "   k_value  accuracy score\n",
       "0        1            81.8\n",
       "1        2            81.8\n",
       "2        3            81.1\n",
       "3        4            81.1\n",
       "4        5            81.0"
      ]
     },
     "execution_count": 69,
     "metadata": {},
     "output_type": "execute_result"
    }
   ],
   "source": [
    "grid_search = pd.DataFrame(grid_search)\n",
    "grid_search.sort_values('accuracy score',ascending=False).head()"
   ]
  },
  {
   "cell_type": "code",
   "execution_count": 70,
   "id": "4a2cc6ed",
   "metadata": {},
   "outputs": [
    {
     "data": {
      "text/plain": [
       "1.0"
      ]
     },
     "execution_count": 70,
     "metadata": {},
     "output_type": "execute_result"
    }
   ],
   "source": [
    "best_k = grid_search.sort_values('accuracy score',ascending=False).iloc[0][0]\n",
    "best_k"
   ]
  },
  {
   "cell_type": "markdown",
   "id": "9d711ab3",
   "metadata": {},
   "source": [
    "## Section B - Testing With Tuned 'K'"
   ]
  },
  {
   "cell_type": "code",
   "execution_count": 71,
   "id": "644951bb",
   "metadata": {},
   "outputs": [],
   "source": [
    "params = fit(train_x,train_y,best_k)"
   ]
  },
  {
   "cell_type": "code",
   "execution_count": 72,
   "id": "638b9db1",
   "metadata": {},
   "outputs": [
    {
     "name": "stdout",
     "output_type": "stream",
     "text": [
      "Model Accuracy is:  77.1 %\n"
     ]
    }
   ],
   "source": [
    "predictions = predict(params[0],params[1],test_x)\n",
    "acc_test = round(accuracy_score(test_y,predictions)*100,3)\n",
    "print(\"Model Accuracy is: \",acc_test,\"%\")"
   ]
  },
  {
   "cell_type": "markdown",
   "id": "c6601280",
   "metadata": {},
   "source": [
    "## Section C - Testing On Training Labels"
   ]
  },
  {
   "cell_type": "code",
   "execution_count": 73,
   "id": "f182e10e",
   "metadata": {},
   "outputs": [
    {
     "name": "stdout",
     "output_type": "stream",
     "text": [
      "Model Accuracy is:  84.0 %\n"
     ]
    }
   ],
   "source": [
    "pred_training = predict(params[0],params[1],train_x)\n",
    "acc_test = round(accuracy_score(train_y,pred_training)*100,3)\n",
    "print(\"Model Accuracy is: \",acc_test,\"%\")"
   ]
  },
  {
   "cell_type": "markdown",
   "id": "1f7d5149",
   "metadata": {},
   "source": [
    "### Train accuracy is higher than test accuracy because the model was built and optimized based on the train features"
   ]
  },
  {
   "cell_type": "markdown",
   "id": "dbd2aa47",
   "metadata": {},
   "source": [
    "<h2>PERCEPTRON"
   ]
  },
  {
   "cell_type": "markdown",
   "id": "5a9761d4",
   "metadata": {},
   "source": [
    "<h3> class and functions"
   ]
  },
  {
   "cell_type": "code",
   "execution_count": 74,
   "id": "bdeda016",
   "metadata": {},
   "outputs": [],
   "source": [
    "def accuracy_calculator(y_true,y_pred):\n",
    "    TNTF = 0\n",
    "    labels_total = {}\n",
    "    label_TNTF = {}\n",
    "    all_accuracies = {}\n",
    "    uniques = np.unique(y_true)\n",
    "    \n",
    "    for i in uniques:\n",
    "        labels_total[i] = 0\n",
    "        label_TNTF[i] = 0\n",
    "        all_accuracies[i] = 0\n",
    "\n",
    "    for i in range(len(y_true)):\n",
    "        labels_total[y_true[i]] += 1\n",
    "        if y_pred[i] == y_true[i]:\n",
    "            TNTF += 1\n",
    "            label_TNTF[y_true[i]] += 1\n",
    "\n",
    "    for i in uniques:\n",
    "        all_accuracies[i] = label_TNTF[i]/labels_total[i] * 100\n",
    "    \n",
    "    return TNTF/len(y_true)*100, all_accuracies\n",
    "\n",
    "#predicts the labels and chooses the perceptron with the highest accuracy\n",
    "def predict(weights_list, images, labels, size):\n",
    "    \n",
    "    #bias\n",
    "    images = np.hstack((np.ones((size, 1)), images))\n",
    "\n",
    "    y_pred = np.dot(weights_list, images.T)\n",
    "    y_pred = np.argmax(y_pred, axis=0).T\n",
    "\n",
    "    avg_accuracy,all_accuracies = accuracy_calculator(labels,y_pred)\n",
    "    \n",
    "    return avg_accuracy,all_accuracies\n",
    "\n",
    "#Calculate appropiate weights for each classifier\n",
    "def train(train_images, train_labels, epoch):\n",
    "    #adding bias\n",
    "    train_images = np.hstack((np.ones((training_size, 1)), train_images))\n",
    "    \n",
    "    # initialize weights as all 0's\n",
    "    weights_list = np.zeros((labels, train_images.shape[1]))\n",
    "    train_labels = train_labels.reshape((training_size, 1))\n",
    "    train_labels_copy = np.copy(train_labels)\n",
    "    \n",
    "    for ep in range(epoch):\n",
    "        print\n",
    "        for y_true,img in zip(train_labels,train_images):\n",
    "            res = []\n",
    "            for w in weights_list:\n",
    "                res.append(np.dot(img,w))\n",
    "            arr_res = np.array(res)\n",
    "            y_pred = np.argmax(arr_res)\n",
    "            if(y_true != y_pred):\n",
    "                weights_list[y_pred] = weights_list[y_pred] - img\n",
    "                weights_list[y_true] = weights_list[y_true] + img\n",
    "\n",
    "    return weights_list"
   ]
  },
  {
   "cell_type": "code",
   "execution_count": 77,
   "id": "ade3cb93",
   "metadata": {},
   "outputs": [],
   "source": [
    "training_size = len(train_x)\n",
    "testing_size = len(test_x)\n",
    "val_size = len(val_x)\n",
    "learning_rate = 1\n",
    "\n",
    "train_images, train_labels = train_x,train_y\n",
    "test_images, test_labels = test_x,test_y\n",
    "val_images, val_labels = val_x,val_y\n",
    "\n",
    "train_images = np.array(train_images)\n",
    "train_labels = np.array(train_labels, dtype=np.int32)\n",
    "    \n",
    "val_images = np.array(val_images)\n",
    "val_labels = np.array(val_labels, dtype=np.int32)\n",
    "\n",
    "test_images = np.array(test_images)\n",
    "test_labels = np.array(test_labels, dtype=np.int32)\n",
    "\n",
    "train_images = train_images.reshape(train_images.shape[0],28*28)\n",
    "test_images = test_images.reshape(test_images.shape[0],28*28)\n",
    "val_images = val_images.reshape(val_images.shape[0],28*28)\n"
   ]
  },
  {
   "cell_type": "code",
   "execution_count": 78,
   "id": "990eb455",
   "metadata": {},
   "outputs": [
    {
     "data": {
      "text/plain": [
       "(5000, 784)"
      ]
     },
     "execution_count": 78,
     "metadata": {},
     "output_type": "execute_result"
    }
   ],
   "source": [
    "train_images.shape"
   ]
  },
  {
   "cell_type": "code",
   "execution_count": 79,
   "id": "e8be16a4",
   "metadata": {},
   "outputs": [
    {
     "data": {
      "text/plain": [
       "5000"
      ]
     },
     "execution_count": 79,
     "metadata": {},
     "output_type": "execute_result"
    }
   ],
   "source": [
    "len(train_x)"
   ]
  },
  {
   "cell_type": "code",
   "execution_count": 80,
   "id": "49e61159",
   "metadata": {},
   "outputs": [],
   "source": [
    "def init_data():\n",
    "    # load data\n",
    "    train_images, train_labels = train_x,train_y\n",
    "    test_images, test_labels = test_x,test_y\n",
    "    val_images, val_labels = val_x,val_y\n",
    "    \n",
    "    train_images = np.array(train_images)[:,:,:]\n",
    "    train_labels = np.array(train_labels, dtype=np.int32)\n",
    "    \n",
    "    test_images = np.array(test_images)[:,:,:]\n",
    "    test_labels = np.array(test_labels, dtype=np.int32)\n",
    "    \n",
    "    val_images = np.array(val_images)[:,:,:]\n",
    "    val_labels = np.array(val_labels, dtype=np.int32)\n",
    "\n",
    "    train_images = train_images.reshape(train_images.shape[0],28*28)\n",
    "    test_images = test_images.reshape(test_images.shape[0],28*28)\n",
    "    val_images = val_images.reshape(val_images.shape[0],28*28)\n",
    "\n",
    "init_data()"
   ]
  },
  {
   "cell_type": "markdown",
   "id": "f9768212",
   "metadata": {},
   "source": [
    "<h3> Perceptron. A - EPOCHS = 3\n"
   ]
  },
  {
   "cell_type": "code",
   "execution_count": 81,
   "id": "16e6583d",
   "metadata": {},
   "outputs": [
    {
     "name": "stdout",
     "output_type": "stream",
     "text": [
      "Training\n",
      "Done\n"
     ]
    }
   ],
   "source": [
    "epochs = 3\n",
    "init_data()\n",
    "print(\"Training\")\n",
    "weights_list = train(train_images, train_labels,epochs)\n",
    "print(\"Done\")"
   ]
  },
  {
   "cell_type": "markdown",
   "id": "5fb6b4cb",
   "metadata": {},
   "source": [
    "<h3> TRAIN DATA"
   ]
  },
  {
   "cell_type": "code",
   "execution_count": 82,
   "id": "3c73bf37",
   "metadata": {},
   "outputs": [
    {
     "name": "stdout",
     "output_type": "stream",
     "text": [
      "Average Training Accuracy: 85.2 %\n",
      "\n",
      "Accuracy for each perceptron: {0: 92.48434237995825, 1: 94.84902309058614, 2: 97.3360655737705, 3: 78.90466531440163, 4: 90.65420560747664, 5: 80.87557603686636, 6: 91.61676646706587, 7: 95.81818181818181, 8: 36.14718614718615, 9: 86.86868686868688} %\n",
      "\n",
      "Wall time: 31 ms\n"
     ]
    }
   ],
   "source": [
    "%%time\n",
    "accuracies = predict(weights_list, train_images, train_labels, training_size)\n",
    "print('Average Training Accuracy:', accuracies[0], '%\\n')\n",
    "print('Accuracy for each perceptron:', accuracies[1], '%\\n')"
   ]
  },
  {
   "cell_type": "markdown",
   "id": "8c6fa10b",
   "metadata": {},
   "source": [
    "<h3> TEST DATA"
   ]
  },
  {
   "cell_type": "code",
   "execution_count": 83,
   "id": "fab25361",
   "metadata": {},
   "outputs": [
    {
     "name": "stdout",
     "output_type": "stream",
     "text": [
      "Average Test Accuracy: 76.3 %\n",
      "\n",
      "Perceptron Accuracy  \n",
      "0          83.33333333333334\n",
      "1          96.29629629629629\n",
      "2          93.20388349514563\n",
      "3          72.0      \n",
      "4          80.37383177570094\n",
      "5          65.21739130434783\n",
      "6          80.21978021978022\n",
      "7          81.13207547169812\n",
      "8          28.155339805825243\n",
      "9          82.0      \n",
      "Wall time: 7.34 ms\n"
     ]
    }
   ],
   "source": [
    "%%time\n",
    "test_acc = predict(weights_list, test_images, test_labels, len(test_labels))\n",
    "print('Average Test Accuracy:', test_acc[0], '%\\n')\n",
    "\n",
    "print(\"{:<10} {:<10}\".format('Perceptron','Accuracy'))\n",
    "for k, v in test_acc[1].items():    \n",
    "    print(\"{:<10} {:<10}\".format(k, v))\n"
   ]
  },
  {
   "cell_type": "markdown",
   "id": "52edc8be",
   "metadata": {},
   "source": [
    "<h3> Perceptron. B - EPOCHS -> [1,5]\n"
   ]
  },
  {
   "cell_type": "code",
   "execution_count": 84,
   "id": "f17103c7",
   "metadata": {},
   "outputs": [
    {
     "name": "stdout",
     "output_type": "stream",
     "text": [
      "Current Epoch :  1\n",
      "Current Epoch :  2\n",
      "Current Epoch :  3\n",
      "Current Epoch :  4\n",
      "Current Epoch :  5\n",
      "Wall time: 6.15 s\n"
     ]
    }
   ],
   "source": [
    "%%time\n",
    "epochs_train = {}\n",
    "epochs_test = {}\n",
    "init_data()\n",
    "for ep in range(1,6):\n",
    "    print('Current Epoch : ',ep)\n",
    "    epochs = ep\n",
    "    init_data()\n",
    "    weights_list = train(train_images, train_labels,ep)\n",
    "    epochs_train[ep] = predict(weights_list, train_images, train_labels, training_size)\n",
    "    epochs_test[ep] = predict(weights_list, test_images, test_labels, testing_size) "
   ]
  },
  {
   "cell_type": "code",
   "execution_count": 85,
   "id": "99d9e822",
   "metadata": {},
   "outputs": [
    {
     "name": "stdout",
     "output_type": "stream",
     "text": [
      "ACCURACY FOR EP 1\n",
      "   TRAIN ACCURACY :  87.0 %\n",
      "   TEST ACCURACY :  78.10000000000001 %\n",
      "ACCURACY FOR EP 2\n",
      "   TRAIN ACCURACY :  89.1 %\n",
      "   TEST ACCURACY :  81.2 %\n",
      "ACCURACY FOR EP 3\n",
      "   TRAIN ACCURACY :  85.2 %\n",
      "   TEST ACCURACY :  76.3 %\n",
      "ACCURACY FOR EP 4\n",
      "   TRAIN ACCURACY :  91.12 %\n",
      "   TEST ACCURACY :  81.39999999999999 %\n",
      "ACCURACY FOR EP 5\n",
      "   TRAIN ACCURACY :  84.06 %\n",
      "   TEST ACCURACY :  74.6 %\n"
     ]
    }
   ],
   "source": [
    "for i in range(1,6):\n",
    "    print('ACCURACY FOR EP', i)\n",
    "    print('   TRAIN ACCURACY : ',epochs_train[i][0],'%')\n",
    "    print('   TEST ACCURACY : ',epochs_test[i][0],'%')"
   ]
  },
  {
   "cell_type": "markdown",
   "id": "ea0f5292",
   "metadata": {},
   "source": [
    "## Section C"
   ]
  },
  {
   "cell_type": "markdown",
   "id": "7ac24896",
   "metadata": {},
   "source": [
    "We would choose Perceptron over Naive Bayes because it gave us higher accuracy (except for some epochs runs).\n",
    "\n",
    "The accuracy we got from each model on the test set is pretty close.\n",
    "    \n",
    "Perceptron is better due to how the model learns data, Perceptron makes an initial assumption and then improves (learns from its mistakes) via doing multiple passes on the dataset"
   ]
  }
 ],
 "metadata": {
  "kernelspec": {
   "display_name": "Python 3 (ipykernel)",
   "language": "python",
   "name": "python3"
  },
  "language_info": {
   "codemirror_mode": {
    "name": "ipython",
    "version": 3
   },
   "file_extension": ".py",
   "mimetype": "text/x-python",
   "name": "python",
   "nbconvert_exporter": "python",
   "pygments_lexer": "ipython3",
   "version": "3.9.7"
  }
 },
 "nbformat": 4,
 "nbformat_minor": 5
}
